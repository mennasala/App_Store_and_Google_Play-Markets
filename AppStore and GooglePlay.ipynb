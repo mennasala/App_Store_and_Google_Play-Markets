{
 "cells": [
  {
   "cell_type": "code",
   "execution_count": null,
   "metadata": {},
   "outputs": [],
   "source": [
    "# First We Will Work on Google Play Store"
   ]
  },
  {
   "cell_type": "code",
   "execution_count": 3,
   "metadata": {},
   "outputs": [],
   "source": [
    "# Exploring Data\n",
    "def Explore_Data(data_set,start,end,has_header):\n",
    "    data_list=data_set[start:end]\n",
    "    for row in data_list:\n",
    "        print(row)\n",
    "    if has_header:\n",
    "        print(\"number of rows = \",len(data_list))\n",
    "        print(\"number of columns = \",len(data_list[0]))"
   ]
  },
  {
   "cell_type": "code",
   "execution_count": 4,
   "metadata": {},
   "outputs": [],
   "source": [
    "# Reading data From Google Play Store\n",
    "from csv import reader\n",
    "read_googleplaystore_file=reader(open(\"E:\\Data Analysis\\projects\\data cleaning\\googleplaystore.csv\",encoding=\"utf8\"))\n",
    "android=list(read_googleplaystore_file) \n",
    "android_Header=android[0]\n",
    "android=android[1:]"
   ]
  },
  {
   "cell_type": "code",
   "execution_count": 5,
   "metadata": {},
   "outputs": [
    {
     "name": "stdout",
     "output_type": "stream",
     "text": [
      "['App', 'Category', 'Rating', 'Reviews', 'Size', 'Installs', 'Type', 'Price', 'Content Rating', 'Genres', 'Last Updated', 'Current Ver', 'Android Ver']\n",
      "['Photo Editor & Candy Camera & Grid & ScrapBook', 'ART_AND_DESIGN', '4.1', '159', '19M', '10,000+', 'Free', '0', 'Everyone', 'Art & Design', 'January 7, 2018', '1.0.0', '4.0.3 and up']\n",
      "['Coloring book moana', 'ART_AND_DESIGN', '3.9', '967', '14M', '500,000+', 'Free', '0', 'Everyone', 'Art & Design;Pretend Play', 'January 15, 2018', '2.0.0', '4.0.3 and up']\n",
      "['U Launcher Lite – FREE Live Cool Themes, Hide Apps', 'ART_AND_DESIGN', '4.7', '87510', '8.7M', '5,000,000+', 'Free', '0', 'Everyone', 'Art & Design', 'August 1, 2018', '1.2.4', '4.0.3 and up']\n",
      "number of rows =  3\n",
      "number of columns =  13\n"
     ]
    }
   ],
   "source": [
    "# Call Exploring Data Function \n",
    "print(android_Header)\n",
    "Explore_Data(android,0,3,True)"
   ]
  },
  {
   "cell_type": "code",
   "execution_count": 6,
   "metadata": {},
   "outputs": [
    {
     "name": "stdout",
     "output_type": "stream",
     "text": [
      "Number of unique App is  9660\n",
      "Number of duplicate Apps is  1181\n",
      "some Examples of unique Apps is \n",
      "['Photo Editor & Candy Camera & Grid & ScrapBook', 'Coloring book moana', 'U Launcher Lite – FREE Live Cool Themes, Hide Apps']\n"
     ]
    }
   ],
   "source": [
    "# Removing Duplicate interies\n",
    "unique_apps=[]\n",
    "duplicat_apps=[]\n",
    "for app in android:\n",
    "    if(app[0] in unique_apps):\n",
    "        duplicat_apps.append(app[0])\n",
    "    else:\n",
    "        unique_apps.append(app[0])\n",
    "print(\"Number of unique App is \",len(unique_apps))\n",
    "print(\"Number of duplicate Apps is \",len(duplicat_apps))\n",
    "print(\"some Examples of unique Apps is \")\n",
    "print(unique_apps[:3])"
   ]
  },
  {
   "cell_type": "code",
   "execution_count": 7,
   "metadata": {},
   "outputs": [],
   "source": [
    "# Removing Duplicated interies based on number of reviews\n",
    "review_max={}\n",
    "for row in android:\n",
    "    app=row[0]\n",
    "    n_review = row[3]\n",
    "    if app in review_max:\n",
    "        if n_review > review_max[app]:\n",
    "            review_max[app]=n_review\n",
    "    else:\n",
    "        review_max[app]=n_review"
   ]
  },
  {
   "cell_type": "code",
   "execution_count": 8,
   "metadata": {},
   "outputs": [
    {
     "data": {
      "text/plain": [
       "['Life Made WI-Fi Touchscreen Photo Frame',\n",
       " '1.9',\n",
       " '19',\n",
       " '3.0M',\n",
       " '1,000+',\n",
       " 'Free',\n",
       " '0',\n",
       " 'Everyone',\n",
       " '',\n",
       " 'February 11, 2018',\n",
       " '1.0.19',\n",
       " '4.0 and up']"
      ]
     },
     "execution_count": 8,
     "metadata": {},
     "output_type": "execute_result"
    }
   ],
   "source": [
    "# Removing Wrong Data\n",
    "android.pop(10472)"
   ]
  },
  {
   "cell_type": "code",
   "execution_count": 10,
   "metadata": {},
   "outputs": [
    {
     "name": "stdout",
     "output_type": "stream",
     "text": [
      "10055\n"
     ]
    }
   ],
   "source": [
    "# save cleaning Data\n",
    "android_clean=[]\n",
    "for row in android:\n",
    "    app=row[0]\n",
    "    n_review=row[3]\n",
    "    if app not in android_clean and n_review == review_max[app]:\n",
    "        android_clean.append(row)\n",
    "print(len(android_clean))"
   ]
  },
  {
   "cell_type": "code",
   "execution_count": 12,
   "metadata": {},
   "outputs": [],
   "source": [
    "# Removing non english apps\n",
    "def is_english(app_name):\n",
    "    cnt=0\n",
    "    for character in app_name:\n",
    "        if ord(character)>127:\n",
    "            cnt+=1\n",
    "    if cnt>3:\n",
    "        return False\n",
    "    return True\n"
   ]
  },
  {
   "cell_type": "code",
   "execution_count": 13,
   "metadata": {},
   "outputs": [],
   "source": [
    "# push english apps in a new list \n",
    "new_android=[]\n",
    "for row in android_clean:\n",
    "    app=row[0]\n",
    "    if(is_english(app)):\n",
    "        new_android.append(row)"
   ]
  },
  {
   "cell_type": "code",
   "execution_count": 22,
   "metadata": {},
   "outputs": [
    {
     "name": "stdout",
     "output_type": "stream",
     "text": [
      "Number of Free Apps =  0\n"
     ]
    }
   ],
   "source": [
    "# isolating free apps from non free apps\n",
    "free_apps=[] \n",
    "for row in new_android:\n",
    "    price=new_android[7]\n",
    "    if(price==0):\n",
    "        free_apps.append(row) \n",
    "\n",
    "print(\"Number of Free Apps = \",len(free_apps)) "
   ]
  },
  {
   "cell_type": "code",
   "execution_count": 74,
   "metadata": {},
   "outputs": [],
   "source": [
    "# second We Will Work on App Store"
   ]
  },
  {
   "cell_type": "code",
   "execution_count": 15,
   "metadata": {},
   "outputs": [],
   "source": [
    "# Reading data From Apple Store\n",
    "from csv import reader\n",
    "read_AppStore_file=reader(open(\"E:\\Data Analysis\\projects\\data cleaning\\AppleStore.csv\",encoding=\"utf8\"))\n",
    "AppStore=list(read_AppStore_file) \n",
    "AppStore_Header=AppStore[0]\n",
    "AppStore=AppStore[1:]"
   ]
  },
  {
   "cell_type": "code",
   "execution_count": 18,
   "metadata": {},
   "outputs": [
    {
     "name": "stdout",
     "output_type": "stream",
     "text": [
      "['', 'id', 'track_name', 'size_bytes', 'currency', 'price', 'rating_count_tot', 'rating_count_ver', 'user_rating', 'user_rating_ver', 'ver', 'cont_rating', 'prime_genre', 'sup_devices.num', 'ipadSc_urls.num', 'lang.num', 'vpp_lic']\n",
      "['1', '281656475', 'PAC-MAN Premium', '100788224', 'USD', '3.99', '21292', '26', '4', '4.5', '6.3.5', '4+', 'Games', '38', '5', '10', '1']\n",
      "['2', '281796108', 'Evernote - stay organized', '158578688', 'USD', '0', '161065', '26', '4', '3.5', '8.2.2', '4+', 'Productivity', '37', '5', '23', '1']\n",
      "['3', '281940292', 'WeatherBug - Local Weather, Radar, Maps, Alerts', '100524032', 'USD', '0', '188583', '2822', '3.5', '4.5', '5.0.0', '4+', 'Weather', '37', '5', '3', '1']\n",
      "number of rows =  3\n",
      "number of columns =  17\n"
     ]
    }
   ],
   "source": [
    "# Call Exploring Data Function\n",
    "print(AppStore_Header)\n",
    "Explore_Data(AppStore,0,3,True)"
   ]
  },
  {
   "cell_type": "code",
   "execution_count": 19,
   "metadata": {},
   "outputs": [
    {
     "name": "stdout",
     "output_type": "stream",
     "text": [
      "Number of unique Apps Store are  7197\n",
      "Number of duplicate Apps Store are  0\n",
      "some Examples of unique Apps are \n",
      "[['1', '281656475', 'PAC-MAN Premium', '100788224', 'USD', '3.99', '21292', '26', '4', '4.5', '6.3.5', '4+', 'Games', '38', '5', '10', '1'], ['2', '281796108', 'Evernote - stay organized', '158578688', 'USD', '0', '161065', '26', '4', '3.5', '8.2.2', '4+', 'Productivity', '37', '5', '23', '1'], ['3', '281940292', 'WeatherBug - Local Weather, Radar, Maps, Alerts', '100524032', 'USD', '0', '188583', '2822', '3.5', '4.5', '5.0.0', '4+', 'Weather', '37', '5', '3', '1']]\n"
     ]
    }
   ],
   "source": [
    "# Removing Duplicate interies\n",
    "unique_appStores=[]\n",
    "duplicat_appStores=[]\n",
    "for app in AppStore:\n",
    "    if(app in unique_appStores):\n",
    "        duplicat_appStores.append(app)\n",
    "    else:\n",
    "        unique_appStores.append(app)\n",
    "print(\"Number of unique Apps Store are \",len(unique_appStores))\n",
    "print(\"Number of duplicate Apps Store are \",len(duplicat_appStores))\n",
    "print(\"some Examples of unique Apps are \")\n",
    "print(unique_appStores[:3])"
   ]
  },
  {
   "cell_type": "code",
   "execution_count": 20,
   "metadata": {},
   "outputs": [],
   "source": [
    "# push english apps in a new list \n",
    "new_appStores=[]\n",
    "for row in unique_appStores:\n",
    "    app=row[2]\n",
    "    if(is_english(app)):\n",
    "        new_appStores.append(row)"
   ]
  },
  {
   "cell_type": "code",
   "execution_count": 21,
   "metadata": {},
   "outputs": [
    {
     "name": "stdout",
     "output_type": "stream",
     "text": [
      "Number of Free app Stores =  0\n"
     ]
    }
   ],
   "source": [
    "# isolating free apps from non free apps\n",
    "free_appStores=[] \n",
    "for row in new_appStores:\n",
    "    price=new_android[5]\n",
    "    if(price==0):\n",
    "        free_appStores.append(row) \n",
    "\n",
    "print(\"Number of Free app Stores = \",len(free_appStores)) "
   ]
  },
  {
   "cell_type": "code",
   "execution_count": null,
   "metadata": {},
   "outputs": [],
   "source": []
  }
 ],
 "metadata": {
  "kernelspec": {
   "display_name": "Python 3",
   "language": "python",
   "name": "python3"
  },
  "language_info": {
   "codemirror_mode": {
    "name": "ipython",
    "version": 3
   },
   "file_extension": ".py",
   "mimetype": "text/x-python",
   "name": "python",
   "nbconvert_exporter": "python",
   "pygments_lexer": "ipython3",
   "version": "3.8.5"
  }
 },
 "nbformat": 4,
 "nbformat_minor": 4
}
